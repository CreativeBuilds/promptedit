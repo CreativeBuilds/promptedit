{
 "cells": [
  {
   "cell_type": "code",
   "execution_count": null,
   "metadata": {},
   "outputs": [],
   "source": [
    "import torch\n",
    "from transformers import AutoModelForCausalLM, AutoTokenizer\n"
   ]
  },
  {
   "cell_type": "code",
   "execution_count": null,
   "metadata": {},
   "outputs": [],
   "source": [
    "tokenizer = AutoTokenizer.from_pretrained(\"cerebras/btlm-3b-8k-base\", device=\"cuda\")\n",
    "model = AutoModelForCausalLM.from_pretrained(\"cerebras/btlm-3b-8k-base\", trust_remote_code=True, torch_dtype=\"auto\", device=\"cuda\")"
   ]
  },
  {
   "cell_type": "code",
   "execution_count": null,
   "metadata": {},
   "outputs": [],
   "source": [
    "prompt = \"\"\"SYSTEM: You are an agent tasked with creating better, more descriptive image prompts that result in higher quality outputs. You are given a user prompt, and determine how, if it all, to change the users image. Do you understand?\n",
    "AGENT: Yes, I understand.\n",
    "SYSTEM: Great. Below there will be a set of examples. For each example, you will be given the users prompt and the expected output. You will be then given a new user prompt and have to generate a new output. Do you understand?\n",
    "AGENT: Yes.\n",
    "\n",
    "PROMPT: A picture of a cat.\n",
    "AGENT: masterpiece:2, Profession Photograph, A cat sitting on a chair, Orange, White whiskers\n",
    "\n",
    "PROMPT: The beach\n",
    "AGENT: masterpiece:3, A beautiful beach, Palm trees, blue sky, white clouds, clear sky\n",
    "\n",
    "PROMPT: An anime girl\n",
    "AGENT:\"\"\"\n",
    "# Change the last prompt to whatever you want to test\n",
    "inputs = tokenizer(prompt, return_tensors=\"pt\").to(\"cuda\")"
   ]
  },
  {
   "cell_type": "code",
   "execution_count": null,
   "metadata": {},
   "outputs": [],
   "source": [
    "# Generate text using the model\n",
    "outputs = model.generate(\n",
    "    **inputs,\n",
    "    num_beams=5,\n",
    "    max_new_tokens=50,\n",
    "    early_stopping=True,\n",
    "    no_repeat_ngram_size=2\n",
    ")\n",
    "# Convert the generated token IDs back to text\n",
    "generated_text = tokenizer.batch_decode(outputs, skip_special_tokens=True)\n",
    "print(generated_text)"
   ]
  }
 ],
 "metadata": {
  "kernelspec": {
   "display_name": "base",
   "language": "python",
   "name": "python3"
  },
  "language_info": {
   "codemirror_mode": {
    "name": "ipython",
    "version": 3
   },
   "file_extension": ".py",
   "mimetype": "text/x-python",
   "name": "python",
   "nbconvert_exporter": "python",
   "pygments_lexer": "ipython3",
   "version": "3.10.9"
  },
  "orig_nbformat": 4
 },
 "nbformat": 4,
 "nbformat_minor": 2
}
